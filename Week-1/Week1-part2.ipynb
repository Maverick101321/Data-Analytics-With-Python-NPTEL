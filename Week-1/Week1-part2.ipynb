{
 "cells": [
  {
   "cell_type": "code",
   "execution_count": 1,
   "id": "f64d4861",
   "metadata": {},
   "outputs": [],
   "source": [
    "import pandas as pd\n",
    "import numpy as nm"
   ]
  },
  {
   "cell_type": "code",
   "execution_count": 2,
   "id": "174ea418",
   "metadata": {},
   "outputs": [],
   "source": [
    "dataset = 'IBM-313 Marks.xlsx'\n",
    "df = pd.read_excel(dataset)"
   ]
  },
  {
   "cell_type": "code",
   "execution_count": 3,
   "id": "2efddfa5",
   "metadata": {},
   "outputs": [
    {
     "data": {
      "text/html": [
       "<div>\n",
       "<style scoped>\n",
       "    .dataframe tbody tr th:only-of-type {\n",
       "        vertical-align: middle;\n",
       "    }\n",
       "\n",
       "    .dataframe tbody tr th {\n",
       "        vertical-align: top;\n",
       "    }\n",
       "\n",
       "    .dataframe thead th {\n",
       "        text-align: right;\n",
       "    }\n",
       "</style>\n",
       "<table border=\"1\" class=\"dataframe\">\n",
       "  <thead>\n",
       "    <tr style=\"text-align: right;\">\n",
       "      <th></th>\n",
       "      <th>S.No.</th>\n",
       "      <th>MTE (25)</th>\n",
       "      <th>Mini Project (25)</th>\n",
       "      <th>Total (50)</th>\n",
       "      <th>ETE (50)</th>\n",
       "      <th>Total</th>\n",
       "    </tr>\n",
       "  </thead>\n",
       "  <tbody>\n",
       "    <tr>\n",
       "      <th>0</th>\n",
       "      <td>1</td>\n",
       "      <td>5.00</td>\n",
       "      <td>20</td>\n",
       "      <td>25.00</td>\n",
       "      <td>12.0</td>\n",
       "      <td>37.00</td>\n",
       "    </tr>\n",
       "    <tr>\n",
       "      <th>1</th>\n",
       "      <td>2</td>\n",
       "      <td>11.05</td>\n",
       "      <td>20</td>\n",
       "      <td>31.05</td>\n",
       "      <td>26.0</td>\n",
       "      <td>57.05</td>\n",
       "    </tr>\n",
       "    <tr>\n",
       "      <th>2</th>\n",
       "      <td>3</td>\n",
       "      <td>8.10</td>\n",
       "      <td>20</td>\n",
       "      <td>28.10</td>\n",
       "      <td>14.0</td>\n",
       "      <td>42.10</td>\n",
       "    </tr>\n",
       "    <tr>\n",
       "      <th>3</th>\n",
       "      <td>4</td>\n",
       "      <td>6.00</td>\n",
       "      <td>10</td>\n",
       "      <td>16.00</td>\n",
       "      <td>13.0</td>\n",
       "      <td>29.00</td>\n",
       "    </tr>\n",
       "    <tr>\n",
       "      <th>4</th>\n",
       "      <td>5</td>\n",
       "      <td>11.35</td>\n",
       "      <td>20</td>\n",
       "      <td>31.35</td>\n",
       "      <td>17.0</td>\n",
       "      <td>48.35</td>\n",
       "    </tr>\n",
       "    <tr>\n",
       "      <th>...</th>\n",
       "      <td>...</td>\n",
       "      <td>...</td>\n",
       "      <td>...</td>\n",
       "      <td>...</td>\n",
       "      <td>...</td>\n",
       "      <td>...</td>\n",
       "    </tr>\n",
       "    <tr>\n",
       "      <th>74</th>\n",
       "      <td>75</td>\n",
       "      <td>12.05</td>\n",
       "      <td>10</td>\n",
       "      <td>22.05</td>\n",
       "      <td>20.0</td>\n",
       "      <td>42.05</td>\n",
       "    </tr>\n",
       "    <tr>\n",
       "      <th>75</th>\n",
       "      <td>76</td>\n",
       "      <td>12.25</td>\n",
       "      <td>10</td>\n",
       "      <td>22.25</td>\n",
       "      <td>28.0</td>\n",
       "      <td>50.25</td>\n",
       "    </tr>\n",
       "    <tr>\n",
       "      <th>76</th>\n",
       "      <td>77</td>\n",
       "      <td>1.75</td>\n",
       "      <td>10</td>\n",
       "      <td>11.75</td>\n",
       "      <td>NaN</td>\n",
       "      <td>0.00</td>\n",
       "    </tr>\n",
       "    <tr>\n",
       "      <th>77</th>\n",
       "      <td>78</td>\n",
       "      <td>3.00</td>\n",
       "      <td>10</td>\n",
       "      <td>13.00</td>\n",
       "      <td>NaN</td>\n",
       "      <td>0.00</td>\n",
       "    </tr>\n",
       "    <tr>\n",
       "      <th>78</th>\n",
       "      <td>79</td>\n",
       "      <td>5.80</td>\n",
       "      <td>10</td>\n",
       "      <td>15.80</td>\n",
       "      <td>12.0</td>\n",
       "      <td>27.80</td>\n",
       "    </tr>\n",
       "  </tbody>\n",
       "</table>\n",
       "<p>79 rows × 6 columns</p>\n",
       "</div>"
      ],
      "text/plain": [
       "    S.No.  MTE (25)  Mini Project (25)  Total (50)  ETE (50)  Total\n",
       "0       1      5.00                 20       25.00      12.0  37.00\n",
       "1       2     11.05                 20       31.05      26.0  57.05\n",
       "2       3      8.10                 20       28.10      14.0  42.10\n",
       "3       4      6.00                 10       16.00      13.0  29.00\n",
       "4       5     11.35                 20       31.35      17.0  48.35\n",
       "..    ...       ...                ...         ...       ...    ...\n",
       "74     75     12.05                 10       22.05      20.0  42.05\n",
       "75     76     12.25                 10       22.25      28.0  50.25\n",
       "76     77      1.75                 10       11.75       NaN   0.00\n",
       "77     78      3.00                 10       13.00       NaN   0.00\n",
       "78     79      5.80                 10       15.80      12.0  27.80\n",
       "\n",
       "[79 rows x 6 columns]"
      ]
     },
     "execution_count": 3,
     "metadata": {},
     "output_type": "execute_result"
    }
   ],
   "source": [
    "df"
   ]
  },
  {
   "cell_type": "markdown",
   "id": "54230f70",
   "metadata": {},
   "source": [
    "### Mean, Median and Mode"
   ]
  },
  {
   "cell_type": "code",
   "execution_count": 8,
   "id": "387b762c",
   "metadata": {},
   "outputs": [
    {
     "name": "stdout",
     "output_type": "stream",
     "text": [
      "46.90632911392405\n"
     ]
    }
   ],
   "source": [
    "x = df['Total']\n",
    "mean = nm.mean(x)\n",
    "print(mean)"
   ]
  },
  {
   "cell_type": "code",
   "execution_count": 11,
   "id": "7f9fea15",
   "metadata": {},
   "outputs": [
    {
     "name": "stdout",
     "output_type": "stream",
     "text": [
      "45.0\n"
     ]
    }
   ],
   "source": [
    "median = nm.median(x)\n",
    "print(median)"
   ]
  },
  {
   "cell_type": "code",
   "execution_count": 15,
   "id": "102c3417",
   "metadata": {},
   "outputs": [
    {
     "data": {
      "text/plain": [
       "ModeResult(mode=array([0.]), count=array([2]))"
      ]
     },
     "execution_count": 15,
     "metadata": {},
     "output_type": "execute_result"
    }
   ],
   "source": [
    "import scipy\n",
    "from scipy import stats\n",
    "stats.mode(x)"
   ]
  },
  {
   "cell_type": "markdown",
   "id": "37f6d2f3",
   "metadata": {},
   "source": [
    "### Percentile"
   ]
  },
  {
   "cell_type": "code",
   "execution_count": 19,
   "id": "533c8bd3",
   "metadata": {},
   "outputs": [
    {
     "name": "stdout",
     "output_type": "stream",
     "text": [
      "3.0\n"
     ]
    }
   ],
   "source": [
    "a = nm.array([1,2,3,4,5])\n",
    "q2 = nm.percentile(a,50)\n",
    "print(q2)\n",
    "#this is the median"
   ]
  },
  {
   "cell_type": "markdown",
   "id": "dd7d5c0b",
   "metadata": {},
   "source": [
    "### Finding the min and max values"
   ]
  },
  {
   "cell_type": "code",
   "execution_count": 22,
   "id": "93c63da8",
   "metadata": {},
   "outputs": [
    {
     "data": {
      "text/plain": [
       "(1, 463)"
      ]
     },
     "execution_count": 22,
     "metadata": {},
     "output_type": "execute_result"
    }
   ],
   "source": [
    "a2 = [1,3,4,463,2,3,6,8,9,4,254,6,72]\n",
    "min(a2), max(a2)"
   ]
  },
  {
   "cell_type": "code",
   "execution_count": 23,
   "id": "4a701896",
   "metadata": {},
   "outputs": [
    {
     "data": {
      "text/plain": [
       "(1, 463, 462)"
      ]
     },
     "execution_count": 23,
     "metadata": {},
     "output_type": "execute_result"
    }
   ],
   "source": [
    "#Now doing the same but with a function and adding the range\n",
    "def min_and_max(a2):\n",
    "    min_val = min(a2)\n",
    "    max_val = max(a2)\n",
    "    rangea = max_val - min_val\n",
    "    return(min_val, max_val, rangea)\n",
    "\n",
    "min_and_max(a2)"
   ]
  },
  {
   "cell_type": "markdown",
   "id": "a974b3df",
   "metadata": {},
   "source": [
    "### Quartile and InterQuartile Range"
   ]
  },
  {
   "cell_type": "code",
   "execution_count": 24,
   "id": "2941fb0f",
   "metadata": {},
   "outputs": [
    {
     "data": {
      "text/plain": [
       "array([  1,   2,   3,   3,   4,   4,   6,   6,   8,   9,  72, 254, 463])"
      ]
     },
     "execution_count": 24,
     "metadata": {},
     "output_type": "execute_result"
    }
   ],
   "source": [
    "a2 = [1,3,4,463,2,3,6,8,9,4,254,6,72]\n",
    "nm.sort(a2)"
   ]
  },
  {
   "cell_type": "code",
   "execution_count": 25,
   "id": "d75ed28e",
   "metadata": {},
   "outputs": [],
   "source": [
    "a_sorted = [  1,   2,   3,   3,   4,   4,   6,   6,   8,   9,  72, 254, 463]\n",
    "q1 = nm.percentile(a_sorted, 25)\n",
    "q2 = nm.percentile(a_sorted, 50)\n",
    "q3 = nm.percentile(a_sorted, 75)"
   ]
  },
  {
   "cell_type": "code",
   "execution_count": 26,
   "id": "12d05e71",
   "metadata": {},
   "outputs": [
    {
     "name": "stdout",
     "output_type": "stream",
     "text": [
      "3.0\n",
      "6.0\n",
      "9.0\n"
     ]
    }
   ],
   "source": [
    "print(q1)\n",
    "print(q2)\n",
    "print(q3)"
   ]
  },
  {
   "cell_type": "code",
   "execution_count": 27,
   "id": "90269385",
   "metadata": {},
   "outputs": [
    {
     "name": "stdout",
     "output_type": "stream",
     "text": [
      "6.0\n"
     ]
    }
   ],
   "source": [
    "iqr = q3-q1\n",
    "print(iqr)"
   ]
  },
  {
   "cell_type": "markdown",
   "id": "c05c6c61",
   "metadata": {},
   "source": [
    "### Variance"
   ]
  },
  {
   "cell_type": "code",
   "execution_count": 30,
   "id": "37d0b645",
   "metadata": {},
   "outputs": [
    {
     "data": {
      "text/plain": [
       "262.7814789296587"
      ]
     },
     "execution_count": 30,
     "metadata": {},
     "output_type": "execute_result"
    }
   ],
   "source": [
    "nm.var(x)"
   ]
  },
  {
   "cell_type": "markdown",
   "id": "d69df14d",
   "metadata": {},
   "source": [
    "### Population Standard Deviation"
   ]
  },
  {
   "cell_type": "code",
   "execution_count": 31,
   "id": "ffcd3613",
   "metadata": {},
   "outputs": [],
   "source": [
    "import statistics"
   ]
  },
  {
   "cell_type": "code",
   "execution_count": 32,
   "id": "a96e5103",
   "metadata": {},
   "outputs": [
    {
     "data": {
      "text/plain": [
       "16.210536046955966"
      ]
     },
     "execution_count": 32,
     "metadata": {},
     "output_type": "execute_result"
    }
   ],
   "source": [
    "statistics.pstdev(x)"
   ]
  },
  {
   "cell_type": "markdown",
   "id": "b6ebe9d8",
   "metadata": {},
   "source": [
    "### Sample Standard Deviation"
   ]
  },
  {
   "cell_type": "code",
   "execution_count": 33,
   "id": "55075bad",
   "metadata": {},
   "outputs": [
    {
     "data": {
      "text/plain": [
       "16.31411880088133"
      ]
     },
     "execution_count": 33,
     "metadata": {},
     "output_type": "execute_result"
    }
   ],
   "source": [
    "statistics.stdev(x)"
   ]
  },
  {
   "cell_type": "markdown",
   "id": "ca3b063f",
   "metadata": {},
   "source": [
    "### Standard Deviation"
   ]
  },
  {
   "cell_type": "code",
   "execution_count": 35,
   "id": "aeb55cb9",
   "metadata": {},
   "outputs": [
    {
     "data": {
      "text/plain": [
       "16.210536046955966"
      ]
     },
     "execution_count": 35,
     "metadata": {},
     "output_type": "execute_result"
    }
   ],
   "source": [
    "nm.std(x)"
   ]
  },
  {
   "cell_type": "markdown",
   "id": "51d3b5bd",
   "metadata": {},
   "source": [
    "### Skewness"
   ]
  },
  {
   "cell_type": "code",
   "execution_count": 36,
   "id": "ad7c9592",
   "metadata": {},
   "outputs": [],
   "source": [
    "from scipy.stats import skew"
   ]
  },
  {
   "cell_type": "code",
   "execution_count": 37,
   "id": "b62acef7",
   "metadata": {},
   "outputs": [
    {
     "data": {
      "text/plain": [
       "0.10226407464884266"
      ]
     },
     "execution_count": 37,
     "metadata": {},
     "output_type": "execute_result"
    }
   ],
   "source": [
    "skew(x)"
   ]
  },
  {
   "cell_type": "markdown",
   "id": "93f1437b",
   "metadata": {},
   "source": [
    "### Boxplot"
   ]
  },
  {
   "cell_type": "code",
   "execution_count": 39,
   "id": "cfa6b444",
   "metadata": {},
   "outputs": [],
   "source": [
    "from matplotlib import pyplot as plt"
   ]
  },
  {
   "cell_type": "code",
   "execution_count": 40,
   "id": "e2214a2a",
   "metadata": {},
   "outputs": [
    {
     "data": {
      "image/png": "[encoded data removed]",
      "text/plain": [
       "<Figure size 640x480 with 1 Axes>"
      ]
     },
     "metadata": {},
     "output_type": "display_data"
    }
   ],
   "source": [
    "plt.boxplot(x, sym = '*')\n",
    "plt.show()"
   ]
  },
  {
   "cell_type": "markdown",
   "id": "2930e0d4",
   "metadata": {},
   "source": [
    "## Thats it for week-1"
   ]
  }
 ],
 "metadata": {
  "kernelspec": {
   "display_name": "Python 3 (ipykernel)",
   "language": "python",
   "name": "python3"
  },
  "language_info": {
   "codemirror_mode": {
    "name": "ipython",
    "version": 3
   },
   "file_extension": ".py",
   "mimetype": "text/x-python",
   "name": "python",
   "nbconvert_exporter": "python",
   "pygments_lexer": "ipython3",
   "version": "3.7.17"
  }
 },
 "nbformat": 4,
 "nbformat_minor": 5
}
