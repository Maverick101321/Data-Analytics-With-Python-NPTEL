{
 "cells": [
  {
   "cell_type": "code",
   "execution_count": 24,
   "id": "7c47bdf2",
   "metadata": {},
   "outputs": [],
   "source": [
    "import scipy\n",
    "import numpy as nm"
   ]
  },
  {
   "cell_type": "code",
   "execution_count": 2,
   "id": "d88c65c7",
   "metadata": {},
   "outputs": [],
   "source": [
    "from scipy.stats import binom"
   ]
  },
  {
   "cell_type": "markdown",
   "id": "b13e2169",
   "metadata": {},
   "source": [
    "## Binomial Distribution"
   ]
  },
  {
   "cell_type": "markdown",
   "id": "d7f5e362",
   "metadata": {},
   "source": [
    "#### A survey found that 65 percent of all financial consumers were very satisfied with their primary financial institution. Suppose that 25 financial consumers are sampled and if survey result still holds true today, what is the probability that exactly 19 are very satisfied with their primary financial institution?"
   ]
  },
  {
   "cell_type": "code",
   "execution_count": 6,
   "id": "b39bb63b",
   "metadata": {},
   "outputs": [
    {
     "name": "stdout",
     "output_type": "stream",
     "text": [
      "0.090777998593228\n"
     ]
    }
   ],
   "source": [
    "print(binom.pmf(k = 19, n= 25, p = 0.65))"
   ]
  },
  {
   "cell_type": "markdown",
   "id": "32adc82f",
   "metadata": {},
   "source": [
    "#### According to the U.S. Census Bureau approx. 6 percent of all workers in jackson are unemployed. In conducting a random telephone survey in jackson, whats the probability of getting two or fewer unemployed workes in a sample of 20 workers. "
   ]
  },
  {
   "cell_type": "code",
   "execution_count": 7,
   "id": "a65f74fb",
   "metadata": {},
   "outputs": [
    {
     "name": "stdout",
     "output_type": "stream",
     "text": [
      "0.22457296167261184\n"
     ]
    }
   ],
   "source": [
    "print(binom.pmf(k= 2, n = 20, p = 0.06))"
   ]
  },
  {
   "cell_type": "markdown",
   "id": "564eedd9",
   "metadata": {},
   "source": [
    "## Poisson Distribution"
   ]
  },
  {
   "cell_type": "code",
   "execution_count": 8,
   "id": "d268501f",
   "metadata": {},
   "outputs": [],
   "source": [
    "from scipy.stats import poisson"
   ]
  },
  {
   "cell_type": "code",
   "execution_count": 10,
   "id": "16d9c9c4",
   "metadata": {},
   "outputs": [
    {
     "data": {
      "text/plain": [
       "0.18044704431548356"
      ]
     },
     "execution_count": 10,
     "metadata": {},
     "output_type": "execute_result"
    }
   ],
   "source": [
    "poisson.pmf(3,2)\n",
    "#X is 3\n",
    "#2 is the mean"
   ]
  },
  {
   "cell_type": "markdown",
   "id": "defc45d1",
   "metadata": {},
   "source": [
    "#### Suppose bank customers arrive randomly on a weekday afternoon at an average of 3.2 customers every 4 minutes. What is the probability of 5 customers in a 4 minute interval on a weekday afternoon. "
   ]
  },
  {
   "cell_type": "code",
   "execution_count": 12,
   "id": "bbbe3b3f",
   "metadata": {},
   "outputs": [
    {
     "data": {
      "text/plain": [
       "0.11397938346351824"
      ]
     },
     "execution_count": 12,
     "metadata": {},
     "output_type": "execute_result"
    }
   ],
   "source": [
    "poisson.pmf(5,3.2)"
   ]
  },
  {
   "cell_type": "markdown",
   "id": "ecbd1250",
   "metadata": {},
   "source": [
    "#### Same question but for 7 customers in the same timeframe"
   ]
  },
  {
   "cell_type": "code",
   "execution_count": 18,
   "id": "894a0805",
   "metadata": {},
   "outputs": [],
   "source": [
    "prob7 = poisson(7,3.2)"
   ]
  },
  {
   "cell_type": "code",
   "execution_count": 20,
   "id": "267224f9",
   "metadata": {},
   "outputs": [
    {
     "ename": "TypeError",
     "evalue": "unsupported operand type(s) for -: 'int' and 'rv_frozen'",
     "output_type": "error",
     "traceback": [
      "\u001b[0;31m---------------------------------------------------------------------------\u001b[0m",
      "\u001b[0;31mTypeError\u001b[0m                                 Traceback (most recent call last)",
      "\u001b[0;32m/tmp/ipykernel_215800/2416967946.py\u001b[0m in \u001b[0;36m<module>\u001b[0;34m\u001b[0m\n\u001b[0;32m----> 1\u001b[0;31m \u001b[0mprob_of_more_than_7\u001b[0m \u001b[0;34m=\u001b[0m \u001b[0;36m1\u001b[0m \u001b[0;34m-\u001b[0m \u001b[0mprob7\u001b[0m\u001b[0;34m\u001b[0m\u001b[0;34m\u001b[0m\u001b[0m\n\u001b[0m\u001b[1;32m      2\u001b[0m \u001b[0mprint\u001b[0m\u001b[0;34m(\u001b[0m\u001b[0mprob_of_more_than_7\u001b[0m\u001b[0;34m)\u001b[0m\u001b[0;34m\u001b[0m\u001b[0;34m\u001b[0m\u001b[0m\n",
      "\u001b[0;31mTypeError\u001b[0m: unsupported operand type(s) for -: 'int' and 'rv_frozen'"
     ]
    }
   ],
   "source": [
    "prob_of_more_than_7 = 1 - prob7\n",
    "print(prob_of_more_than_7)"
   ]
  },
  {
   "cell_type": "markdown",
   "id": "5ec1bd3a",
   "metadata": {},
   "source": [
    "#### Same question but the probability of getting 10 customers in 8 mins is?"
   ]
  },
  {
   "cell_type": "code",
   "execution_count": 22,
   "id": "5b5e681b",
   "metadata": {},
   "outputs": [
    {
     "data": {
      "text/plain": [
       "<scipy.stats._distn_infrastructure.rv_frozen at 0x7f836d5427d0>"
      ]
     },
     "execution_count": 22,
     "metadata": {},
     "output_type": "execute_result"
    }
   ],
   "source": [
    "poisson(10,6.4)"
   ]
  },
  {
   "cell_type": "markdown",
   "id": "2ec335a6",
   "metadata": {},
   "source": [
    "## Uniform Distribution"
   ]
  },
  {
   "cell_type": "markdown",
   "id": "6b9dc94c",
   "metadata": {},
   "source": [
    "#### Suppose the time it takes to assemble a plastic module ranges from 27 to 39 seconds and the assembly times are uniformly distributed. Describe the distribution and the probability that it'll take 30-35 seconds. "
   ]
  },
  {
   "cell_type": "code",
   "execution_count": 27,
   "id": "ca619b7f",
   "metadata": {},
   "outputs": [
    {
     "name": "stdout",
     "output_type": "stream",
     "text": [
      "[27 28 29 30 31 32 33 34 35 36 37 38 39]\n"
     ]
    }
   ],
   "source": [
    "u = nm.arange(27,40,1)\n",
    "print(u)"
   ]
  },
  {
   "cell_type": "code",
   "execution_count": 28,
   "id": "70dbe52e",
   "metadata": {},
   "outputs": [],
   "source": [
    "from scipy.stats import uniform"
   ]
  },
  {
   "cell_type": "code",
   "execution_count": 29,
   "id": "2255bb88",
   "metadata": {},
   "outputs": [
    {
     "data": {
      "text/plain": [
       "33.0"
      ]
     },
     "execution_count": 29,
     "metadata": {},
     "output_type": "execute_result"
    }
   ],
   "source": [
    "uniform.mean(loc = 27, scale = 12)"
   ]
  },
  {
   "cell_type": "code",
   "execution_count": 32,
   "id": "211e4581",
   "metadata": {},
   "outputs": [
    {
     "data": {
      "text/plain": [
       "array([0.25      , 0.33333333, 0.41666667, 0.5       , 0.58333333,\n",
       "       0.66666667])"
      ]
     },
     "execution_count": 32,
     "metadata": {},
     "output_type": "execute_result"
    }
   ],
   "source": [
    "uniform.cdf(nm.arange(30,36,1), loc = 27, scale = 12)"
   ]
  },
  {
   "cell_type": "code",
   "execution_count": 34,
   "id": "52940a23",
   "metadata": {},
   "outputs": [
    {
     "name": "stdout",
     "output_type": "stream",
     "text": [
      "0.41666667\n"
     ]
    }
   ],
   "source": [
    "#between 30-35 seconds \n",
    "prob2 = 0.66666667 - 0.25\n",
    "print(prob2)"
   ]
  },
  {
   "cell_type": "markdown",
   "id": "beee878f",
   "metadata": {},
   "source": [
    "#### to find the mean and the s.d between 200 and 1182"
   ]
  },
  {
   "cell_type": "code",
   "execution_count": 37,
   "id": "1941918e",
   "metadata": {},
   "outputs": [
    {
     "name": "stdout",
     "output_type": "stream",
     "text": [
      "691.0\n",
      "283.4789821721062\n"
     ]
    }
   ],
   "source": [
    "m1 = uniform.mean(loc = 200, scale = 982)\n",
    "sd1 = uniform.std(loc = 200, scale = 982)\n",
    "print(m1)\n",
    "print(sd1)"
   ]
  },
  {
   "cell_type": "markdown",
   "id": "d78b2733",
   "metadata": {},
   "source": [
    "## Normal Distribution"
   ]
  },
  {
   "cell_type": "code",
   "execution_count": 41,
   "id": "291fcf31",
   "metadata": {},
   "outputs": [],
   "source": [
    "from scipy.stats import norm"
   ]
  },
  {
   "cell_type": "code",
   "execution_count": 43,
   "id": "e93d6914",
   "metadata": {},
   "outputs": [],
   "source": [
    "val, mean, sd = 68, 68.5, 2.5"
   ]
  },
  {
   "cell_type": "code",
   "execution_count": 44,
   "id": "171b15df",
   "metadata": {},
   "outputs": [
    {
     "name": "stdout",
     "output_type": "stream",
     "text": [
      "0.42074029056089696\n"
     ]
    }
   ],
   "source": [
    "print(norm.cdf(val,mean,sd))"
   ]
  },
  {
   "cell_type": "markdown",
   "id": "58c76136",
   "metadata": {},
   "source": [
    "#### Whats the probability of getting a score greater than 700 on a gmat test that has a mean of 494 and s.d of 100? Assume gmat scores are normally distributed. "
   ]
  },
  {
   "cell_type": "code",
   "execution_count": 46,
   "id": "c46cbc5b",
   "metadata": {},
   "outputs": [
    {
     "name": "stdout",
     "output_type": "stream",
     "text": [
      "0.9803007295906231\n"
     ]
    }
   ],
   "source": [
    "#probability till 700\n",
    "p1 = norm.cdf(700,494,100)\n",
    "print(p1)"
   ]
  },
  {
   "cell_type": "code",
   "execution_count": 47,
   "id": "bb8ad763",
   "metadata": {},
   "outputs": [
    {
     "name": "stdout",
     "output_type": "stream",
     "text": [
      "0.019699270409376912\n"
     ]
    }
   ],
   "source": [
    "#now the probabilti of >700\n",
    "p2 = 1-p1\n",
    "print(p2)"
   ]
  },
  {
   "cell_type": "code",
   "execution_count": 48,
   "id": "264d5f0f",
   "metadata": {},
   "outputs": [
    {
     "name": "stdout",
     "output_type": "stream",
     "text": [
      "0.8292378553956377\n"
     ]
    }
   ],
   "source": [
    "#Obtaining a score between 300 to 600\n",
    "p3 = norm.cdf(300,494,100)\n",
    "p6 = norm.cdf(600,494,100)\n",
    "ans1 = p6 - p3\n",
    "print(ans1)"
   ]
  },
  {
   "cell_type": "markdown",
   "id": "22ce0e64",
   "metadata": {},
   "source": [
    "## Hypergeometric Distribution"
   ]
  },
  {
   "cell_type": "markdown",
   "id": "6ee1db98",
   "metadata": {},
   "source": [
    "#### suppose 18 major computer companies operate in the u.s and 12 of them are in califormia's silicon valley. If three companies are taken at random what is the probability that one or more of them are located in the silicon valley. "
   ]
  },
  {
   "cell_type": "code",
   "execution_count": 50,
   "id": "77c9eb2c",
   "metadata": {},
   "outputs": [
    {
     "name": "stdout",
     "output_type": "stream",
     "text": [
      "0.9754901960784306\n"
     ]
    }
   ],
   "source": [
    "from scipy.stats import hypergeom\n",
    "val = hypergeom.sf(0,18,3,12)\n",
    "print(val)"
   ]
  },
  {
   "cell_type": "markdown",
   "id": "a63b4d47",
   "metadata": {},
   "source": [
    "## Exponential Distribution"
   ]
  },
  {
   "cell_type": "markdown",
   "id": "82e24f99",
   "metadata": {},
   "source": [
    "#### A manufacturing firm has been involved in statistical quality for several years. As part of the production process, parts are randomly selected and tested. From the records of these tests, it has been established that a defective part occurs in a pattern that is poisson distribution on the avg of 1.38 defects every 20 mins during production runs. Determine the probability that in less than 15 mins will elapse between any two defects. "
   ]
  },
  {
   "cell_type": "code",
   "execution_count": 51,
   "id": "e8059ce9",
   "metadata": {},
   "outputs": [],
   "source": [
    "from scipy.stats import expon"
   ]
  },
  {
   "cell_type": "code",
   "execution_count": 52,
   "id": "4324a2a0",
   "metadata": {},
   "outputs": [
    {
     "data": {
      "text/plain": [
       "0.6447736190750485"
      ]
     },
     "execution_count": 52,
     "metadata": {},
     "output_type": "execute_result"
    }
   ],
   "source": [
    "expon.cdf(0.75, 0, (1/1.38))\n",
    "#15/20 = 0.75, loc = 0 bevause y=(x-loc)/scale and y = x/scale"
   ]
  },
  {
   "cell_type": "markdown",
   "id": "7610d6e0",
   "metadata": {},
   "source": [
    "## Thats it for week-3!!"
   ]
  }
 ],
 "metadata": {
  "kernelspec": {
   "display_name": "Python 3 (ipykernel)",
   "language": "python",
   "name": "python3"
  },
  "language_info": {
   "codemirror_mode": {
    "name": "ipython",
    "version": 3
   },
   "file_extension": ".py",
   "mimetype": "text/x-python",
   "name": "python",
   "nbconvert_exporter": "python",
   "pygments_lexer": "ipython3",
   "version": "3.7.17"
  }
 },
 "nbformat": 4,
 "nbformat_minor": 5
}
